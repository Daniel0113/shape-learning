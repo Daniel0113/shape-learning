{
 "cells": [
  {
   "cell_type": "code",
   "execution_count": 24,
   "id": "813a3ff6",
   "metadata": {},
   "outputs": [],
   "source": [
    "from skimage import io\n",
    "import matplotlib.pyplot as plt \n",
    "import tensorflow as tf\n",
    "import numpy as np\n",
    "import os\n",
    "\n",
    "tf.get_logger().setLevel('ERROR')\n",
    "\n",
    "def load_data(data_directory):\n",
    "    directories = [d for d in os.listdir(data_directory)\n",
    "                  if os.path.isdir(os.path.join(data_directory, d))]\n",
    "    labels = []\n",
    "    images = []\n",
    "    \n",
    "    for d in directories:\n",
    "        label_directory = os.path.join(data_directory, d)\n",
    "        file_names = [os.path.join(label_directory, f)\n",
    "                     for f in os.listdir(label_directory)\n",
    "                     if f.endswith(\".png\")]\n",
    "        for f in file_names:\n",
    "            images.append(io.imread(f))\n",
    "            labels.append(int(d))\n",
    "    return np.array(images), np.array(labels)"
   ]
  },
  {
   "cell_type": "code",
   "execution_count": 25,
   "id": "39e32558",
   "metadata": {},
   "outputs": [
    {
     "name": "stdout",
     "output_type": "stream",
     "text": [
      "Epoch 1/8\n",
      "94/94 [==============================] - 0s 762us/step - loss: 1.0048 - accuracy: 0.5120\n",
      "Epoch 2/8\n",
      "94/94 [==============================] - 0s 769us/step - loss: 0.7660 - accuracy: 0.6503\n",
      "Epoch 3/8\n",
      "94/94 [==============================] - 0s 753us/step - loss: 0.7141 - accuracy: 0.6567\n",
      "Epoch 4/8\n",
      "94/94 [==============================] - 0s 779us/step - loss: 0.6191 - accuracy: 0.7173\n",
      "Epoch 5/8\n",
      "94/94 [==============================] - 0s 749us/step - loss: 0.5444 - accuracy: 0.7693\n",
      "Epoch 6/8\n",
      "94/94 [==============================] - 0s 778us/step - loss: 0.5027 - accuracy: 0.7877\n",
      "Epoch 7/8\n",
      "94/94 [==============================] - 0s 798us/step - loss: 0.4438 - accuracy: 0.8320\n",
      "Epoch 8/8\n",
      "94/94 [==============================] - 0s 799us/step - loss: 0.4054 - accuracy: 0.8557\n",
      "19/19 - 0s - loss: 0.3750 - accuracy: 0.8783\n"
     ]
    },
    {
     "data": {
      "text/plain": [
       "[0.3749639093875885, 0.878333330154419]"
      ]
     },
     "execution_count": 25,
     "metadata": {},
     "output_type": "execute_result"
    }
   ],
   "source": [
    "ROOT_PATH = \"/Users/dfebles/Developer/machine-learning/shapes\"\n",
    "train_data_directory = os.path.join(ROOT_PATH, \"training\")\n",
    "test_data_directory = os.path.join(ROOT_PATH, \"testing\")\n",
    "\n",
    "train_images, train_labels = load_data(train_data_directory)\n",
    "train_images = train_images / 255.0\n",
    "\n",
    "test_images, test_labels = load_data(test_data_directory)\n",
    "test_images = test_images / 255.0\n",
    "\n",
    "model = tf.keras.Sequential([\n",
    "    tf.keras.layers.Flatten(input_shape=(24, 24)),\n",
    "    tf.keras.layers.Dense(128, activation='relu'),\n",
    "    tf.keras.layers.Dense(3)\n",
    "])\n",
    "\n",
    "model.compile(optimizer='adam',\n",
    "              loss=tf.keras.losses.SparseCategoricalCrossentropy(from_logits=True),\n",
    "              metrics=['accuracy'])\n",
    "model.fit(train_images, train_labels, epochs=8)\n",
    "model.evaluate(test_images, test_labels, verbose = 2)"
   ]
  },
  {
   "cell_type": "code",
   "execution_count": 26,
   "id": "d5dd9829",
   "metadata": {},
   "outputs": [
    {
     "name": "stdout",
     "output_type": "stream",
     "text": [
      "1\n",
      "[0.36671272 0.4011414  0.23214592]\n",
      "0\n",
      "[0.4766274  0.3515341  0.17183858]\n",
      "0\n",
      "[0.5020305  0.4385055  0.05946407]\n"
     ]
    }
   ],
   "source": [
    "probability_model = tf.keras.models.Sequential([\n",
    "    model,\n",
    "    tf.keras.layers.Softmax()\n",
    "])\n",
    "\n",
    "shapes = ['rectangle', 'ellipse', 'circle']\n",
    "predictions = probability_model.predict(test_images)\n",
    "\n",
    "print(np.argmax(predictions[0]))\n",
    "print(predictions[0])\n",
    "print(np.argmax(predictions[1]))\n",
    "print(predictions[1])\n",
    "print(np.argmax(predictions[2]))\n",
    "print(predictions[2])"
   ]
  }
 ],
 "metadata": {
  "kernelspec": {
   "display_name": "Python 3 (ipykernel)",
   "language": "python",
   "name": "python3"
  },
  "language_info": {
   "codemirror_mode": {
    "name": "ipython",
    "version": 3
   },
   "file_extension": ".py",
   "mimetype": "text/x-python",
   "name": "python",
   "nbconvert_exporter": "python",
   "pygments_lexer": "ipython3",
   "version": "3.9.6"
  }
 },
 "nbformat": 4,
 "nbformat_minor": 5
}
